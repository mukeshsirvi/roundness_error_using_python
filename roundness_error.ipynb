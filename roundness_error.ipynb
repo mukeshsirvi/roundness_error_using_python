{
 "cells": [
  {
   "cell_type": "code",
   "execution_count": 1,
   "id": "6dd073c8",
   "metadata": {},
   "outputs": [
    {
     "name": "stdout",
     "output_type": "stream",
     "text": [
      "52.804474242245796\n",
      "57.467925836939685\n",
      "65.85258157430124\n",
      "65.47375428368225\n",
      "58.513353176860406\n",
      "51.0618497510617\n",
      "55.2567869134643\n",
      "59.69976968129777\n",
      "64.7615819757362\n",
      "62.520496639102284\n",
      "59.61805515110334\n",
      "53.91950018314339\n"
     ]
    }
   ],
   "source": [
    "# for calculating radius for various corrdinates & selecting maximum and minimum radius for roundness error calculation\n",
    "import math\n",
    "# given points\n",
    "x=[0,36.5,69.5,75,52,22,0,-22.5,-43.5,-51,-47,-28]\n",
    "y=[63,62.5,40.5,0,-30,-38.5,-43,-38.5,-24.5,0,27,49]\n",
    "\n",
    "# total number of points\n",
    "n_x=len(x) \n",
    "n_y=len(y)\n",
    "    \n",
    "#Center coordinates\n",
    "X=(2*sum(x))/n_x\n",
    "Y=(2*sum(y))/n_y \n",
    "\n",
    "for i in range(len(x)):\n",
    "    r=math.sqrt((x[i]-X)**2+(y[i]-Y)**2)\n",
    "    print(r)"
   ]
  },
  {
   "cell_type": "markdown",
   "id": "a090da8f",
   "metadata": {},
   "source": [
    "from this we found that  r_max=65.85258157430124 and r_min=51.0618497510617  we will put this value in our roundness error calculation function for calculating roundness error"
   ]
  },
  {
   "cell_type": "code",
   "execution_count": 2,
   "id": "478b920e",
   "metadata": {},
   "outputs": [],
   "source": [
    "def roundness_error(r_max,r_min):\n",
    "    # Givern Coordinates\n",
    "    x=[0,36.5,69.5,75,52,22,0,-22.5,-43.5,-51,-47,-28]\n",
    "    y=[63,62.5,40.5,0,-30,-38.5,-43,-38.5,-24.5,0,27,49]\n",
    "    magnification=250\n",
    "    \n",
    "    \n",
    "    # total number of points\n",
    "    n_x=len(x) \n",
    "    n_y=len(y)\n",
    "    \n",
    "    #Center coordinates\n",
    "    X=(2*sum(x))/n_x\n",
    "    Y=(2*sum(y))/n_y  \n",
    "    \n",
    "    # roundness error\n",
    "    roundness_error=((r_max-r_min)*1000)/magnification\n",
    "    print(\"The Center coordinates of x is {} and y is {}\".format(X,Y))\n",
    "    print(\"The roundness error is :\", roundness_error)"
   ]
  },
  {
   "cell_type": "code",
   "execution_count": 3,
   "id": "e791017b",
   "metadata": {},
   "outputs": [
    {
     "name": "stdout",
     "output_type": "stream",
     "text": [
      "The Center coordinates of x is 10.5 and y is 11.25\n",
      "The roundness error is : 59.16292729295816\n"
     ]
    }
   ],
   "source": [
    "# calculated r_max and r_min values\n",
    "r_max=65.85258157430124\n",
    "r_min=51.0618497510617\n",
    "\n",
    "# putting these values in roundness error calculation function\n",
    "roundness_error(r_max,r_min)"
   ]
  },
  {
   "cell_type": "code",
   "execution_count": null,
   "id": "809cc565",
   "metadata": {},
   "outputs": [],
   "source": []
  }
 ],
 "metadata": {
  "kernelspec": {
   "display_name": "Python 3 (ipykernel)",
   "language": "python",
   "name": "python3"
  },
  "language_info": {
   "codemirror_mode": {
    "name": "ipython",
    "version": 3
   },
   "file_extension": ".py",
   "mimetype": "text/x-python",
   "name": "python",
   "nbconvert_exporter": "python",
   "pygments_lexer": "ipython3",
   "version": "3.10.1"
  }
 },
 "nbformat": 4,
 "nbformat_minor": 5
}
